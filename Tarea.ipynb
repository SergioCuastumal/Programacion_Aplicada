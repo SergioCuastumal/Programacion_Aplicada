{
  "nbformat": 4,
  "nbformat_minor": 0,
  "metadata": {
    "colab": {
      "provenance": [],
      "authorship_tag": "ABX9TyMjARKAMW2D7lHbiXPJ8cjp",
      "include_colab_link": true
    },
    "kernelspec": {
      "name": "python3",
      "display_name": "Python 3"
    },
    "language_info": {
      "name": "python"
    }
  },
  "cells": [
    {
      "cell_type": "markdown",
      "metadata": {
        "id": "view-in-github",
        "colab_type": "text"
      },
      "source": [
        "<a href=\"https://colab.research.google.com/github/SergioCuastumal/Programacion_Aplicada/blob/main/Tarea.ipynb\" target=\"_parent\"><img src=\"https://colab.research.google.com/assets/colab-badge.svg\" alt=\"Open In Colab\"/></a>"
      ]
    },
    {
      "cell_type": "code",
      "execution_count": null,
      "metadata": {
        "colab": {
          "base_uri": "https://localhost:8080/"
        },
        "id": "z5wgo4fypary",
        "outputId": "0c6b0d08-841b-4131-c9de-8a292397dc29"
      },
      "outputs": [
        {
          "output_type": "stream",
          "name": "stdout",
          "text": [
            "Escriba algo: ola\n",
            "El numero de caracteres es: 3\n",
            "El numero de ceros es: 7\n",
            "0000000ola\n"
          ]
        }
      ],
      "source": [
        "#Sergio Andres Cuastumal Almario 20212005121\n",
        "texto = str(input(\"Escriba algo: \")) \n",
        "print(f\"El numero de caracteres es: {len(texto)}\")\n",
        "n = 10-len(texto)\n",
        "print(f\"El numero de ceros es: {n}\")\n",
        "llenar0= n*\"0\"\n",
        "print(llenar0+texto)"
      ]
    }
  ]
}